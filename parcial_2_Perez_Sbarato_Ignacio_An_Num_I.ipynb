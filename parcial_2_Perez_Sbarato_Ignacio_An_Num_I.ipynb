{
 "cells": [
  {
   "cell_type": "code",
   "execution_count": null,
   "id": "a8bb9132",
   "metadata": {},
   "outputs": [
    {
     "name": "stdout",
     "output_type": "stream",
     "text": [
      "Collecting scipy\n",
      "  Downloading scipy-1.15.3-cp310-cp310-win_amd64.whl.metadata (60 kB)\n",
      "     ---------------------------------------- 0.0/60.8 kB ? eta -:--:--\n",
      "     ------------------- ------------------ 30.7/60.8 kB 435.7 kB/s eta 0:00:01\n",
      "     -------------------------------------- 60.8/60.8 kB 537.5 kB/s eta 0:00:00\n",
      "Requirement already satisfied: numpy<2.5,>=1.23.5 in c:\\users\\ignau\\.julia\\conda\\3\\x86_64\\lib\\site-packages (from scipy) (1.24.3)\n",
      "Downloading scipy-1.15.3-cp310-cp310-win_amd64.whl (41.3 MB)\n",
      "   ---------------------------------------- 0.0/41.3 MB ? eta -:--:--\n",
      "   ---------------------------------------- 0.2/41.3 MB 5.9 MB/s eta 0:00:07\n",
      "    --------------------------------------- 0.5/41.3 MB 8.4 MB/s eta 0:00:05\n",
      "   - -------------------------------------- 1.1/41.3 MB 10.1 MB/s eta 0:00:04\n",
      "   - -------------------------------------- 1.3/41.3 MB 9.5 MB/s eta 0:00:05\n",
      "   -- ------------------------------------- 2.1/41.3 MB 10.2 MB/s eta 0:00:04\n",
      "   -- ------------------------------------- 2.8/41.3 MB 12.0 MB/s eta 0:00:04\n",
      "   -- ------------------------------------- 2.8/41.3 MB 10.0 MB/s eta 0:00:04\n",
      "   --- ------------------------------------ 3.9/41.3 MB 11.9 MB/s eta 0:00:04\n",
      "   ---- ----------------------------------- 4.8/41.3 MB 12.9 MB/s eta 0:00:03\n",
      "   ----- ---------------------------------- 5.5/41.3 MB 13.1 MB/s eta 0:00:03\n",
      "   ----- ---------------------------------- 6.2/41.3 MB 13.6 MB/s eta 0:00:03\n",
      "   ------ --------------------------------- 6.7/41.3 MB 13.5 MB/s eta 0:00:03\n",
      "   ------- -------------------------------- 7.4/41.3 MB 13.4 MB/s eta 0:00:03\n",
      "   ------- -------------------------------- 8.0/41.3 MB 13.6 MB/s eta 0:00:03\n",
      "   -------- ------------------------------- 8.7/41.3 MB 13.5 MB/s eta 0:00:03\n",
      "   -------- ------------------------------- 8.8/41.3 MB 13.2 MB/s eta 0:00:03\n",
      "   --------- ------------------------------ 10.0/41.3 MB 13.6 MB/s eta 0:00:03\n",
      "   ---------- ----------------------------- 10.6/41.3 MB 14.6 MB/s eta 0:00:03\n",
      "   ---------- ----------------------------- 11.3/41.3 MB 14.6 MB/s eta 0:00:03\n",
      "   ----------- ---------------------------- 12.0/41.3 MB 15.2 MB/s eta 0:00:02\n",
      "   ------------ --------------------------- 12.4/41.3 MB 14.6 MB/s eta 0:00:02\n",
      "   ------------ --------------------------- 13.1/41.3 MB 15.2 MB/s eta 0:00:02\n",
      "   ------------- -------------------------- 13.8/41.3 MB 14.5 MB/s eta 0:00:02\n",
      "   -------------- ------------------------- 14.5/41.3 MB 14.2 MB/s eta 0:00:02\n",
      "   -------------- ------------------------- 15.2/41.3 MB 14.2 MB/s eta 0:00:02\n",
      "   --------------- ------------------------ 15.7/41.3 MB 14.2 MB/s eta 0:00:02\n",
      "   --------------- ------------------------ 16.3/41.3 MB 14.2 MB/s eta 0:00:02\n",
      "   ---------------- ----------------------- 16.9/41.3 MB 14.2 MB/s eta 0:00:02\n",
      "   ----------------- ---------------------- 17.6/41.3 MB 14.2 MB/s eta 0:00:02\n",
      "   ----------------- ---------------------- 18.3/41.3 MB 14.2 MB/s eta 0:00:02\n",
      "   ------------------ --------------------- 18.9/41.3 MB 14.2 MB/s eta 0:00:02\n",
      "   ------------------ --------------------- 19.5/41.3 MB 14.6 MB/s eta 0:00:02\n",
      "   ------------------- -------------------- 20.2/41.3 MB 14.2 MB/s eta 0:00:02\n",
      "   -------------------- ------------------- 21.2/41.3 MB 13.9 MB/s eta 0:00:02\n",
      "   --------------------- ------------------ 21.8/41.3 MB 14.6 MB/s eta 0:00:02\n",
      "   --------------------- ------------------ 22.4/41.3 MB 14.2 MB/s eta 0:00:02\n",
      "   ---------------------- ----------------- 23.1/41.3 MB 14.2 MB/s eta 0:00:02\n",
      "   ----------------------- ---------------- 23.7/41.3 MB 14.6 MB/s eta 0:00:02\n",
      "   ----------------------- ---------------- 24.3/41.3 MB 14.6 MB/s eta 0:00:02\n",
      "   ------------------------ --------------- 25.1/41.3 MB 14.6 MB/s eta 0:00:02\n",
      "   ------------------------ --------------- 25.8/41.3 MB 14.6 MB/s eta 0:00:02\n",
      "   ------------------------- -------------- 26.4/41.3 MB 14.5 MB/s eta 0:00:02\n",
      "   -------------------------- ------------- 27.0/41.3 MB 14.2 MB/s eta 0:00:02\n",
      "   -------------------------- ------------- 27.7/41.3 MB 14.6 MB/s eta 0:00:01\n",
      "   --------------------------- ------------ 28.3/41.3 MB 14.2 MB/s eta 0:00:01\n",
      "   ---------------------------- ----------- 28.9/41.3 MB 14.6 MB/s eta 0:00:01\n",
      "   ---------------------------- ----------- 29.6/41.3 MB 14.6 MB/s eta 0:00:01\n",
      "   ----------------------------- ---------- 30.3/41.3 MB 14.2 MB/s eta 0:00:01\n",
      "   ------------------------------ --------- 31.0/41.3 MB 14.6 MB/s eta 0:00:01\n",
      "   ------------------------------ --------- 31.7/41.3 MB 14.5 MB/s eta 0:00:01\n",
      "   ------------------------------- -------- 32.2/41.3 MB 14.6 MB/s eta 0:00:01\n",
      "   ------------------------------- -------- 32.8/41.3 MB 14.6 MB/s eta 0:00:01\n",
      "   -------------------------------- ------- 33.4/41.3 MB 14.2 MB/s eta 0:00:01\n",
      "   --------------------------------- ------ 34.2/41.3 MB 14.2 MB/s eta 0:00:01\n",
      "   --------------------------------- ------ 34.8/41.3 MB 14.2 MB/s eta 0:00:01\n",
      "   ---------------------------------- ----- 35.3/41.3 MB 14.5 MB/s eta 0:00:01\n",
      "   ---------------------------------- ----- 36.0/41.3 MB 14.2 MB/s eta 0:00:01\n",
      "   ----------------------------------- ---- 36.6/41.3 MB 14.6 MB/s eta 0:00:01\n",
      "   ------------------------------------ --- 37.3/41.3 MB 14.2 MB/s eta 0:00:01\n",
      "   ------------------------------------ --- 38.0/41.3 MB 14.2 MB/s eta 0:00:01\n",
      "   ------------------------------------- -- 38.6/41.3 MB 14.6 MB/s eta 0:00:01\n",
      "   -------------------------------------- - 39.2/41.3 MB 14.6 MB/s eta 0:00:01\n",
      "   -------------------------------------- - 39.9/41.3 MB 14.6 MB/s eta 0:00:01\n",
      "   ---------------------------------------  40.6/41.3 MB 14.6 MB/s eta 0:00:01\n",
      "   ---------------------------------------  41.3/41.3 MB 14.6 MB/s eta 0:00:01\n",
      "   ---------------------------------------  41.3/41.3 MB 14.6 MB/s eta 0:00:01\n",
      "   ---------------------------------------  41.3/41.3 MB 14.6 MB/s eta 0:00:01\n",
      "   ---------------------------------------  41.3/41.3 MB 14.6 MB/s eta 0:00:01\n",
      "   ---------------------------------------  41.3/41.3 MB 14.6 MB/s eta 0:00:01\n",
      "   ---------------------------------------  41.3/41.3 MB 14.6 MB/s eta 0:00:01\n",
      "   ---------------------------------------  41.3/41.3 MB 14.6 MB/s eta 0:00:01\n",
      "   ---------------------------------------  41.3/41.3 MB 14.6 MB/s eta 0:00:01\n",
      "   ---------------------------------------  41.3/41.3 MB 14.6 MB/s eta 0:00:01\n",
      "   ---------------------------------------  41.3/41.3 MB 14.6 MB/s eta 0:00:01\n",
      "   ---------------------------------------  41.3/41.3 MB 14.6 MB/s eta 0:00:01\n",
      "   ---------------------------------------  41.3/41.3 MB 14.6 MB/s eta 0:00:01\n",
      "   ---------------------------------------  41.3/41.3 MB 14.6 MB/s eta 0:00:01\n",
      "   ---------------------------------------  41.3/41.3 MB 14.6 MB/s eta 0:00:01\n",
      "   ---------------------------------------  41.3/41.3 MB 14.6 MB/s eta 0:00:01\n",
      "   ---------------------------------------  41.3/41.3 MB 14.6 MB/s eta 0:00:01\n",
      "   ---------------------------------------  41.3/41.3 MB 14.6 MB/s eta 0:00:01\n",
      "   ---------------------------------------  41.3/41.3 MB 14.6 MB/s eta 0:00:01\n",
      "   ---------------------------------------  41.3/41.3 MB 14.6 MB/s eta 0:00:01\n",
      "   ---------------------------------------  41.3/41.3 MB 14.6 MB/s eta 0:00:01\n",
      "   ---------------------------------------- 41.3/41.3 MB 6.5 MB/s eta 0:00:00\n",
      "Installing collected packages: scipy\n",
      "Successfully installed scipy-1.15.3\n",
      "Note: you may need to restart the kernel to use updated packages.\n"
     ]
    }
   ],
   "source": [
    "pip install scipy"
   ]
  },
  {
   "cell_type": "code",
   "execution_count": 1,
   "id": "cf8c9d6e",
   "metadata": {},
   "outputs": [],
   "source": [
    "import numpy as np\n",
    "import math\n",
    "import matplotlib.pyplot as plt\n",
    "from scipy.interpolate import interp1d\n",
    "from scipy import linalg"
   ]
  },
  {
   "cell_type": "markdown",
   "id": "988e2761",
   "metadata": {},
   "source": [
    "### problema 1"
   ]
  },
  {
   "cell_type": "code",
   "execution_count": 2,
   "id": "eadea158",
   "metadata": {},
   "outputs": [],
   "source": [
    "def intenumcomp2(fun, a: float, b: float, N: int, regla: str):\n",
    "    h = (b - a)/N\n",
    "    vect_x = np.linspace(a, b, N+1)\n",
    "    \n",
    "    if regla == \"trapecio\":\n",
    "        suma = fun(a) + fun(b)\n",
    "        for k in range(1, N):\n",
    "            suma += 2 * fun(vect_x[k])\n",
    "        return (h/2) * suma\n",
    "    \n",
    "    elif regla == \"simpson\":\n",
    "        if N % 2 != 0:\n",
    "            raise ValueError(\"Para Simpson, N debe ser par\")\n",
    "        suma = fun(a) + fun(b)\n",
    "        for k in range(1, N):\n",
    "            if k % 2 == 0:\n",
    "                suma += 2 * fun(vect_x[k])\n",
    "            else:\n",
    "                suma += 4 * fun(vect_x[k])\n",
    "        return (h/3) * suma\n",
    "    \n",
    "    elif regla == \"pm\":\n",
    "        suma = 0\n",
    "        for k in range(N):\n",
    "            punto_medio = (vect_x[k] + vect_x[k+1]) / 2\n",
    "            suma += fun(punto_medio)\n",
    "        return h * suma\n",
    "    \n",
    "    else:\n",
    "        raise ValueError(f\"{regla} no es un método válido (usar 'trapecio', 'simpson' o 'pm')\")"
   ]
  },
  {
   "cell_type": "code",
   "execution_count": 3,
   "id": "c25fc8f0",
   "metadata": {},
   "outputs": [],
   "source": [
    "#implemento una funcion para conseguir minimizar el error hasta la cota dada\n",
    "\n",
    "def interr(fun,a,b,tol,real):\n",
    "    N = 2\n",
    "    while abs(intenumcomp2(fun,a,b,N,'simpson')-real) >= tol:\n",
    "        N += 2\n",
    "\n",
    "        if N ==1000:\n",
    "            print('no se llego al minimo de la tolerancia')\n",
    "            break\n",
    "\n",
    "    return N, intenumcomp2(fun,a,b,N,'simpson')"
   ]
  },
  {
   "cell_type": "code",
   "execution_count": 4,
   "id": "363d8605",
   "metadata": {},
   "outputs": [],
   "source": [
    "#defino las funciones a integrar para el ajuste cuadratico por cuadrados minimos\n",
    "def func0(x:float):\n",
    "    return np.sin(x)\n",
    "def func1(x:float):\n",
    "    return x*np.sin(x)\n",
    "def func2(x:float):\n",
    "    return np.sin(x)*(x**2)\n",
    "def pol0(x:float):\n",
    "    return 1\n",
    "def pol1(x:float):\n",
    "    return x\n",
    "def pol2(x:float):\n",
    "    return x**2\n",
    "def pol3(x:float):\n",
    "    return x**3\n",
    "def pol4(x:float):\n",
    "    return x**4"
   ]
  },
  {
   "cell_type": "code",
   "execution_count": 5,
   "id": "1a3d1330",
   "metadata": {},
   "outputs": [
    {
     "name": "stdout",
     "output_type": "stream",
     "text": [
      "1.0000263121705926\n",
      "0.9999206314107351\n",
      "1.141540126566755\n"
     ]
    }
   ],
   "source": [
    "#defino los valores de las integrales\n",
    "int0 = interr(func0,0,np.pi/2,10e-5,1)[1]\n",
    "int1 = interr(func1,0,np.pi/2,10e-5,1)[1]\n",
    "int2 = interr(func2,0,np.pi/2,10e-5,np.pi-2)[1]\n",
    "print(int0)\n",
    "print(int1)\n",
    "print(int2)\n",
    "\n"
   ]
  },
  {
   "cell_type": "code",
   "execution_count": 6,
   "id": "18ca6739",
   "metadata": {},
   "outputs": [
    {
     "name": "stdout",
     "output_type": "stream",
     "text": [
      "1.9126845211319636\n"
     ]
    }
   ],
   "source": [
    "# ahora tambien tengo que realizar las integrales de los polinomios\n",
    "#las integrales deberian ser exactas para todos los polinomios \n",
    "#salvo para el polinomio  de grado 4\n",
    "intpol0 = intenumcomp2(pol0,0,np.pi/2,2,'simpson')\n",
    "intpol1 = intenumcomp2(pol1,0,np.pi/2,2,'simpson')\n",
    "intpol2 = intenumcomp2(pol2,0,np.pi/2,2,'simpson')\n",
    "intpol3 = intenumcomp2(pol3,0,np.pi/2,2,'simpson')\n",
    "intpol4 = interr(pol4,0,np.pi/2,10e-5,np.pi**5/(5*2**5))[1]\n",
    "\n",
    "print(intpol4)\n"
   ]
  },
  {
   "cell_type": "markdown",
   "id": "4e39ae2f",
   "metadata": {},
   "source": [
    "### problema 2"
   ]
  },
  {
   "cell_type": "code",
   "execution_count": 7,
   "id": "ec9160cd",
   "metadata": {},
   "outputs": [
    {
     "name": "stdout",
     "output_type": "stream",
     "text": [
      "[[1.57079633 1.23370055 1.2919282 ]\n",
      " [1.23370055 1.2919282  1.52201705]\n",
      " [1.2919282  1.52201705 1.91268452]]\n"
     ]
    }
   ],
   "source": [
    "#armo la matriz A del sistema a resolver\n",
    "A = np.zeros([3,3])\n",
    "A[0,0] = intpol0\n",
    "A[0,1] = intpol1\n",
    "A[0,2] = intpol2\n",
    "A[1,0] = intpol1\n",
    "A[1,1] = intpol2\n",
    "A[1,2] = intpol3\n",
    "A[2,0] = intpol2\n",
    "A[2,1] = intpol3\n",
    "A[2,2] = intpol4\n",
    "print(A)"
   ]
  },
  {
   "cell_type": "code",
   "execution_count": 8,
   "id": "07326669",
   "metadata": {},
   "outputs": [
    {
     "name": "stdout",
     "output_type": "stream",
     "text": [
      "[1.00002631 0.99992063 1.14154013]\n"
     ]
    }
   ],
   "source": [
    "#armo la matriz B del sistema a resolver\n",
    "B = np.array([int0,int1,int2])\n",
    "print(B)"
   ]
  },
  {
   "cell_type": "code",
   "execution_count": 9,
   "id": "f3dc536b",
   "metadata": {},
   "outputs": [],
   "source": [
    "#uso linalg para realizar la descompcision y resolver las ecuaciones del sistema\n",
    "#para ello defino la funcion sollu\n",
    "def sollu(A,B):\n",
    "    P,L,U = linalg.lu(A)\n",
    "    pb = P @ B\n",
    "    y_sol = linalg.solve_triangular(L,pb,lower=True)\n",
    "    coeficientes = linalg.solve_triangular(U,y_sol)\n",
    "    return coeficientes"
   ]
  },
  {
   "cell_type": "code",
   "execution_count": 10,
   "id": "3959e84d",
   "metadata": {},
   "outputs": [],
   "source": [
    "coeficientes = sollu(A,B)"
   ]
  },
  {
   "cell_type": "code",
   "execution_count": null,
   "id": "6a24d62f",
   "metadata": {},
   "outputs": [],
   "source": [
    "#defino el polinomio cuadratico con los coeficientes\n",
    "def aprox_cuadmin(x):\n",
    "\n",
    "    cuadmin = coeficientes[0] + coeficientes[1]*x + coeficientes[2]*x**2\n",
    "\n",
    "    return cuadmin"
   ]
  },
  {
   "cell_type": "markdown",
   "id": "bbb1ad20",
   "metadata": {},
   "source": [
    "### problema 3"
   ]
  },
  {
   "cell_type": "code",
   "execution_count": null,
   "id": "28815113",
   "metadata": {},
   "outputs": [
    {
     "name": "stdout",
     "output_type": "stream",
     "text": [
      "[0.         0.39269908 0.78539816 1.17809725 1.57079633]\n",
      "0.39269908169872414\n",
      "[0.         0.38268343 0.70710678 0.92387953 1.        ]\n"
     ]
    }
   ],
   "source": [
    "#defino los 5 puntos equiespaciados y les atribuyo un valor en la funcion\n",
    "nodos = np.linspace(0,np.pi/2,5)\n",
    "print(nodos)\n",
    "y = func0(nodos)\n",
    "print(y)"
   ]
  },
  {
   "cell_type": "code",
   "execution_count": null,
   "id": "b5b051d5",
   "metadata": {},
   "outputs": [
    {
     "name": "stdout",
     "output_type": "stream",
     "text": [
      "[0.         0.03214123 0.06422156 0.09621189 0.12808313 0.15980618\n",
      " 0.19135194 0.22269132 0.25379522 0.28463454 0.31518018 0.34540306\n",
      " 0.37527407 0.40476411 0.4338441  0.46248492 0.49065749 0.51833271\n",
      " 0.54548148 0.5720747  0.59808328 0.62347812 0.64823012 0.6723102\n",
      " 0.69568924 0.71833843 0.74023537 0.76136404 0.78170873 0.80125372\n",
      " 0.81998327 0.83788166 0.85493318 0.87112209 0.88643267 0.9008492\n",
      " 0.91435596 0.92693722 0.93857726 0.94926035 0.95897077 0.9676928\n",
      " 0.97541071 0.98210878 0.98777128 0.9923825  0.9959267  0.99838817\n",
      " 0.99975118 1.        ]\n"
     ]
    }
   ],
   "source": [
    "#defino el spline cubico\n",
    "spline_3 = interp1d(nodos,y,'cubic')\n",
    "x = np.linspace(0,np.pi/2,50)\n",
    "pol = spline_3(x)\n",
    "print(pol)"
   ]
  },
  {
   "cell_type": "markdown",
   "id": "8227b810",
   "metadata": {},
   "source": [
    "### problema 4"
   ]
  },
  {
   "cell_type": "code",
   "execution_count": 20,
   "id": "30782f16",
   "metadata": {},
   "outputs": [
    {
     "data": {
      "text/plain": [
       "[<matplotlib.lines.Line2D at 0x1a57219bf70>]"
      ]
     },
     "execution_count": 20,
     "metadata": {},
     "output_type": "execute_result"
    },
    {
     "data": {
      "image/png": "[encoded data removed]",
      "text/plain": [
       "<Figure size 800x550 with 1 Axes>"
      ]
     },
     "metadata": {},
     "output_type": "display_data"
    }
   ],
   "source": [
    "#grafico las aproximaciones\n",
    "plt.style.use('seaborn-v0_8')\n",
    "plt.title('Comparacion aproximaciones vs funcion original', fontsize=14, pad=20)\n",
    "plt.xlabel('x', fontsize=12)\n",
    "plt.ylabel('y', fontsize=12)\n",
    "\n",
    "plt.plot(x,pol,'.r')\n",
    "plt.plot(x,func0(x),'-g')\n",
    "plt.plot(x,aprox_cuadmin(x),'.y')"
   ]
  },
  {
   "cell_type": "code",
   "execution_count": null,
   "id": "fd8d91bc",
   "metadata": {},
   "outputs": [],
   "source": []
  },
  {
   "cell_type": "code",
   "execution_count": null,
   "id": "9fb94327",
   "metadata": {},
   "outputs": [],
   "source": []
  }
 ],
 "metadata": {
  "kernelspec": {
   "display_name": "base",
   "language": "python",
   "name": "python3"
  },
  "language_info": {
   "codemirror_mode": {
    "name": "ipython",
    "version": 3
   },
   "file_extension": ".py",
   "mimetype": "text/x-python",
   "name": "python",
   "nbconvert_exporter": "python",
   "pygments_lexer": "ipython3",
   "version": "3.10.14"
  }
 },
 "nbformat": 4,
 "nbformat_minor": 5
}
